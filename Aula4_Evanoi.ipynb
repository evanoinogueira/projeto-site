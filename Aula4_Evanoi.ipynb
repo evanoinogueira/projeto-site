{
  "nbformat": 4,
  "nbformat_minor": 0,
  "metadata": {
    "colab": {
      "provenance": [],
      "authorship_tag": "ABX9TyNXEfbqbPOFvo9iXwqZNh9F",
      "include_colab_link": true
    },
    "kernelspec": {
      "name": "python3",
      "display_name": "Python 3"
    },
    "language_info": {
      "name": "python"
    }
  },
  "cells": [
    {
      "cell_type": "markdown",
      "metadata": {
        "id": "view-in-github",
        "colab_type": "text"
      },
      "source": [
        "<a href=\"https://colab.research.google.com/github/evanoinogueira/projeto-site/blob/main/Aula4_Evanoi.ipynb\" target=\"_parent\"><img src=\"https://colab.research.google.com/assets/colab-badge.svg\" alt=\"Open In Colab\"/></a>"
      ]
    },
    {
      "cell_type": "code",
      "source": [
        "numero =5\n",
        "print(numero)\n",
        "print(type(numero))"
      ],
      "metadata": {
        "colab": {
          "base_uri": "https://localhost:8080/"
        },
        "id": "8C0ylg0Em3wS",
        "outputId": "e4a7531a-d2cb-4c56-9a40-c81783d35bdb"
      },
      "execution_count": 5,
      "outputs": [
        {
          "output_type": "stream",
          "name": "stdout",
          "text": [
            "5\n",
            "<class 'int'>\n"
          ]
        }
      ]
    },
    {
      "cell_type": "code",
      "source": [
        "numero = 5.6\n",
        "print(numero)\n",
        "print(type(numero))"
      ],
      "metadata": {
        "colab": {
          "base_uri": "https://localhost:8080/"
        },
        "id": "66KnJfRwnt0b",
        "outputId": "fa3f8346-09d8-4602-b0ae-b43ed5b03a25"
      },
      "execution_count": 6,
      "outputs": [
        {
          "output_type": "stream",
          "name": "stdout",
          "text": [
            "5.6\n",
            "<class 'float'>\n"
          ]
        }
      ]
    },
    {
      "cell_type": "code",
      "source": [
        "nome = \"Evanói\"\n",
        "print(nome)\n",
        "print(type(nome))"
      ],
      "metadata": {
        "colab": {
          "base_uri": "https://localhost:8080/"
        },
        "id": "Nt7esWDdpBZ3",
        "outputId": "9c254050-26d2-4db1-85ec-975585cb09b6"
      },
      "execution_count": 7,
      "outputs": [
        {
          "output_type": "stream",
          "name": "stdout",
          "text": [
            "Evanói\n",
            "<class 'str'>\n"
          ]
        }
      ]
    },
    {
      "cell_type": "code",
      "source": [
        "bebida_favorita =\"Suco de laranja\"\n",
        "print(bebida_favorita)\n",
        "print(type(bebida_favorita))"
      ],
      "metadata": {
        "colab": {
          "base_uri": "https://localhost:8080/"
        },
        "id": "Lbkzrjddpfzg",
        "outputId": "03f9eff7-4814-4059-cf71-342787385769"
      },
      "execution_count": 8,
      "outputs": [
        {
          "output_type": "stream",
          "name": "stdout",
          "text": [
            "Suco de laranja\n",
            "<class 'str'>\n"
          ]
        }
      ]
    },
    {
      "cell_type": "code",
      "source": [
        "preco_bebida= 5.01\n",
        "print(preco_bebida)\n",
        "print(type(preco_bebida))"
      ],
      "metadata": {
        "colab": {
          "base_uri": "https://localhost:8080/"
        },
        "id": "zw63dfh0qLNH",
        "outputId": "d0792d74-454b-417c-8ff0-98ceeff28fc8"
      },
      "execution_count": 9,
      "outputs": [
        {
          "output_type": "stream",
          "name": "stdout",
          "text": [
            "5.01\n",
            "<class 'float'>\n"
          ]
        }
      ]
    },
    {
      "cell_type": "code",
      "source": [
        "alcoolica =False\n",
        "print(alcoolica)\n",
        "print(type(alcoolica))"
      ],
      "metadata": {
        "colab": {
          "base_uri": "https://localhost:8080/"
        },
        "id": "s_xUYo0Aqh33",
        "outputId": "623d4e31-f765-4ae1-9808-eb8b7cbc3aaf"
      },
      "execution_count": 10,
      "outputs": [
        {
          "output_type": "stream",
          "name": "stdout",
          "text": [
            "False\n",
            "<class 'bool'>\n"
          ]
        }
      ]
    },
    {
      "cell_type": "code",
      "source": [
        "almoco_favorito = \"Macarronada\"\n",
        "preco_almoco = 33.99\n",
        "orcamento = 55.00"
      ],
      "metadata": {
        "id": "bwJZt0aQt1Tl"
      },
      "execution_count": 18,
      "outputs": []
    },
    {
      "cell_type": "code",
      "source": [
        "total_almoco = preco_almoco + preco_bebida\n",
        "print(total_almoco)"
      ],
      "metadata": {
        "colab": {
          "base_uri": "https://localhost:8080/"
        },
        "id": "x75HGlAFuuNd",
        "outputId": "79567b4f-b5ce-48cc-b90c-72d61a041626"
      },
      "execution_count": 19,
      "outputs": [
        {
          "output_type": "stream",
          "name": "stdout",
          "text": [
            "39.0\n"
          ]
        }
      ]
    },
    {
      "cell_type": "code",
      "source": [
        "orcamento_final = orcamento - total_almoco\n",
        "print(\"Preço do meu almoço:\", total_almoco)\n",
        "print(\"Orçamento final: \", orcamento_final)"
      ],
      "metadata": {
        "colab": {
          "base_uri": "https://localhost:8080/"
        },
        "id": "xpy6BbLQvc4f",
        "outputId": "f4f94353-4b84-418a-9d27-2f89c3ebc353"
      },
      "execution_count": 23,
      "outputs": [
        {
          "output_type": "stream",
          "name": "stdout",
          "text": [
            "Preço do meu almoço: 39.0\n",
            "Orçamento final:  16.0\n"
          ]
        }
      ]
    },
    {
      "cell_type": "code",
      "source": [
        "almoco_amigos = 4* preco_almoco\n",
        "total_cada =  almoco_amigos / 4\n",
        "print(\"Valor do almoço: \", almoco_amigos)\n",
        "print(\"Valor que cada um vai pagar: \", total_cada)"
      ],
      "metadata": {
        "colab": {
          "base_uri": "https://localhost:8080/"
        },
        "id": "AKPUhBS0zfJ9",
        "outputId": "2de1f13d-a5ba-49c3-92e6-22dafa194767"
      },
      "execution_count": 25,
      "outputs": [
        {
          "output_type": "stream",
          "name": "stdout",
          "text": [
            "Valor do almoço:  135.96\n",
            "Valor que cada um vai pagar:  33.99\n"
          ]
        }
      ]
    },
    {
      "cell_type": "code",
      "source": [
        "if(total_cada < orcamento_final):\n",
        "  print(\"Posso pagar!\")\n",
        "else:\n",
        "  print(\"Não posso pagar!\")"
      ],
      "metadata": {
        "colab": {
          "base_uri": "https://localhost:8080/"
        },
        "id": "KIhBLyLs1mnZ",
        "outputId": "51269898-8440-4c0c-8e94-dc4a297cca47"
      },
      "execution_count": 30,
      "outputs": [
        {
          "output_type": "stream",
          "name": "stdout",
          "text": [
            "Não posso pagar!\n"
          ]
        }
      ]
    },
    {
      "cell_type": "code",
      "source": [
        "idade = 15\n",
        "if(idade >= 18):\n",
        "  print(\"Você é maior de idade!\")\n",
        "else:\n",
        "   print(\"Você é de menor!\")"
      ],
      "metadata": {
        "colab": {
          "base_uri": "https://localhost:8080/"
        },
        "id": "utGhQ1AT31oc",
        "outputId": "10dc9a57-8828-411d-fda8-34c1da4a1ecf"
      },
      "execution_count": 33,
      "outputs": [
        {
          "output_type": "stream",
          "name": "stdout",
          "text": [
            "Você é de menor!\n"
          ]
        }
      ]
    },
    {
      "cell_type": "markdown",
      "source": [],
      "metadata": {
        "id": "M6scuvz8pRyV"
      }
    }
  ]
}