{
  "nbformat": 4,
  "nbformat_minor": 0,
  "metadata": {
    "colab": {
      "provenance": [],
      "authorship_tag": "ABX9TyNdh2w9V1yBx2gr2T8FTH4E",
      "include_colab_link": true
    },
    "kernelspec": {
      "name": "python3",
      "display_name": "Python 3"
    },
    "language_info": {
      "name": "python"
    }
  },
  "cells": [
    {
      "cell_type": "markdown",
      "metadata": {
        "id": "view-in-github",
        "colab_type": "text"
      },
      "source": [
        "<a href=\"https://colab.research.google.com/github/evanoinogueira/projeto-site/blob/main/categoriaHabilitacao.ipynb\" target=\"_parent\"><img src=\"https://colab.research.google.com/assets/colab-badge.svg\" alt=\"Open In Colab\"/></a>"
      ]
    },
    {
      "cell_type": "code",
      "source": [
        "def classificar_categoria(rodas, peso, pessoas):\n",
        "    if rodas <= 3:\n",
        "        return \"Categoria A\"\n",
        "    elif rodas == 4 and peso <= 3500 and pessoas <= 8:\n",
        "        return \"Categoria B\"\n",
        "    elif rodas >= 4 and 3500 < peso <= 6000:\n",
        "        return \"Categoria C\"\n",
        "    elif rodas >= 4 and pessoas > 8:\n",
        "        return \"Categoria D\"\n",
        "    else:\n",
        "        return \"Categoria E\"\n",
        "\n",
        "# Exemplo de uso:\n",
        "rodas = int(input(\"Digite a quantidade de rodas: \"))\n",
        "peso = float(input(\"Digite o peso do veículo (kg): \"))\n",
        "pessoas = int(input(\"Digite a quantidade de pessoas: \"))\n",
        "\n",
        "categoria = classificar_categoria(rodas, peso, pessoas)\n",
        "print(\"A categoria de habilitação necessária é:\", categoria)"
      ],
      "metadata": {
        "colab": {
          "base_uri": "https://localhost:8080/"
        },
        "id": "T_A2ry3hpLQR",
        "outputId": "727694c6-4602-4489-d0d7-7a44a875125c"
      },
      "execution_count": 10,
      "outputs": [
        {
          "output_type": "stream",
          "name": "stdout",
          "text": [
            "Digite a quantidade de rodas: 8\n",
            "Digite o peso do veículo (kg): 8000\n",
            "Digite a quantidade de pessoas: 4\n",
            "A categoria de habilitação necessária é: Categoria E\n"
          ]
        }
      ]
    }
  ]
}